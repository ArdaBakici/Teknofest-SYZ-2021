{
 "cells": [
  {
   "cell_type": "code",
   "execution_count": 1,
   "source": [
    "# Here is the imports\n",
    "from tensorflow import keras\n",
    "import numpy as np\n",
    "#import matplotlib.pylot as plt\n",
    "import tensorflow as tf\n",
    "import segmentation_models as sm\n",
    "sm.set_framework('tf.keras')\n",
    "import os\n",
    "from matplotlib import pyplot as plt\n",
    "import cv2\n",
    "# segmentation_models could also use `tf.keras` if you do not have Keras installed\n",
    "# or you could switch to other framework using `sm.set_framework('tf.keras')`"
   ],
   "outputs": [
    {
     "output_type": "stream",
     "name": "stderr",
     "text": [
      "2021-08-12 22:20:07.814282: I tensorflow/stream_executor/platform/default/dso_loader.cc:53] Successfully opened dynamic library libcudart.so.11.0\n"
     ]
    },
    {
     "output_type": "stream",
     "name": "stdout",
     "text": [
      "Segmentation Models: using `tf.keras` framework.\n"
     ]
    }
   ],
   "metadata": {}
  },
  {
   "cell_type": "markdown",
   "source": [
    "<h1>CONSTANTS</h1>"
   ],
   "metadata": {}
  },
  {
   "cell_type": "code",
   "execution_count": null,
   "source": [
    "# Dataset Constants\n",
    "DATASET_PATH = \".\\\\dataset\\\\\"\n",
    "TRAIN_DIR = \"train\"\n",
    "VAL_DIR = \"validation\"\n",
    "TEST_DIR = \"test\"\n",
    "\n",
    "DATA_DIR = \"data\"\n",
    "LABEL_DIR = \"label\"\n",
    "\n",
    "# Model Constants\n",
    "BACKBONE = 'efficientnetb3'\n",
    "BATCH_SIZE = 2\n",
    "# unlabelled 0, iskemik 1, hemorajik 2\n",
    "MASK_CLASSES = ['background', 'iskemik', 'kanama']\n",
    "# format image 512,512,3 mask 512,512,class_num each 512,512 mask involves true and false for each class\n",
    "CLASSES = ['iskemik', 'kanama']\n",
    "LR = 0.0001\n",
    "EPOCHS = 40\n",
    "MODEL_SAVE_PATH = \"./models\""
   ],
   "outputs": [],
   "metadata": {}
  },
  {
   "cell_type": "code",
   "execution_count": null,
   "source": [
    "# Variables\n",
    "x_train_dir = os.path.join(DATASET_PATH, TRAIN_DIR, DATA_DIR)\n",
    "y_train_dir = os.path.join(DATASET_PATH, TRAIN_DIR, LABEL_DIR)\n",
    "\n",
    "x_val_dir = os.path.join(DATASET_PATH, VAL_DIR, DATA_DIR)\n",
    "y_val_dir = os.path.join(DATASET_PATH, VAL_DIR, LABEL_DIR)\n",
    "\n",
    "x_test_dir = os.path.join(DATASET_PATH, TEST_DIR, DATA_DIR)\n",
    "y_test_dir = os.path.join(DATASET_PATH, TEST_DIR, LABEL_DIR)\n",
    "\n",
    "# define callbacks for learning rate scheduling and best checkpoints saving\n",
    "callbacks = [\n",
    "    keras.callbacks.ModelCheckpoint('./best_model.h5', save_weights_only=True, save_best_only=True, mode='min'),\n",
    "    keras.callbacks.ReduceLROnPlateau(),\n",
    "]"
   ],
   "outputs": [],
   "metadata": {}
  },
  {
   "cell_type": "markdown",
   "source": [
    "# Dataloader and utility functions "
   ],
   "metadata": {}
  },
  {
   "cell_type": "code",
   "execution_count": null,
   "source": [
    "# helper function for data visualization\n",
    "def visualize(**images):\n",
    "    \"\"\"Plot images in one row.\"\"\"\n",
    "    n = len(images)\n",
    "    plt.figure(figsize=(16, 5))\n",
    "    for i, (name, image) in enumerate(images.items()):\n",
    "        plt.subplot(1, n, i + 1)\n",
    "        plt.xticks([])\n",
    "        plt.yticks([])\n",
    "        plt.title(' '.join(name.split('_')).title())\n",
    "        plt.imshow(image)\n",
    "    plt.show()\n",
    "\n",
    "def visualize_dataset(img, mask, classes):\n",
    "    kwarg = {'image': img}\n",
    "    for i in range(len(classes+1)):\n",
    "        kwarg.update({classes[i] : mask[..., i].squeeze()})\n",
    "    visualize(**kwarg)\n",
    "\n",
    "    \n",
    "# helper function for data visualization    \n",
    "def denormalize(x):\n",
    "    \"\"\"Scale image to range 0..1 for correct plot\"\"\"\n",
    "    x_max = np.percentile(x, 98)\n",
    "    x_min = np.percentile(x, 2)    \n",
    "    x = (x - x_min) / (x_max - x_min)\n",
    "    x = x.clip(0, 1)\n",
    "    return x\n",
    "    \n",
    "\n",
    "# classes for data loading and preprocessing\n",
    "class Dataset:\n",
    "    \"\"\"CamVid Dataset. Read images, apply augmentation and preprocessing transformations.\n",
    "    \n",
    "    Args:\n",
    "        images_dir (str): path to images folder\n",
    "        masks_dir (str): path to segmentation masks folder\n",
    "        class_values (list): values of classes to extract from segmentation mask\n",
    "        augmentation (albumentations.Compose): data transfromation pipeline \n",
    "            (e.g. flip, scale, etc.)\n",
    "        preprocessing (albumentations.Compose): data preprocessing \n",
    "            (e.g. noralization, shape manipulation, etc.)\n",
    "    \n",
    "    \"\"\"\n",
    "    \n",
    "    def __init__(\n",
    "            self, \n",
    "            images_dir, \n",
    "            masks_dir, \n",
    "            classes=None, \n",
    "            augmentation=None, \n",
    "            preprocessing=None,\n",
    "    ):\n",
    "        self.ids = os.listdir(images_dir)\n",
    "        self.images_fps = [os.path.join(images_dir, image_id) for image_id in self.ids]\n",
    "        self.masks_fps = [os.path.join(masks_dir, image_id) for image_id in self.ids]\n",
    "        self.CLASSES = MASK_CLASSES\n",
    "        # convert str names to class values on masks\n",
    "        self.class_values = [self.CLASSES.index(cls.lower()) for cls in classes]\n",
    "        \n",
    "        self.augmentation = augmentation\n",
    "        self.preprocessing = preprocessing\n",
    "    \n",
    "    def __getitem__(self, i):\n",
    "        \n",
    "        # read data\n",
    "        image = cv2.imread(self.images_fps[i])\n",
    "        image = cv2.cvtColor(image, cv2.COLOR_BGR2RGB)\n",
    "        mask = cv2.imread(self.masks_fps[i], 0)\n",
    "        \n",
    "        # extract certain classes from mask (e.g. cars)\n",
    "        masks = [(mask == v) for v in self.class_values]\n",
    "        mask = np.stack(masks, axis=-1).astype('float')\n",
    "        \n",
    "        # add background if mask is not binary\n",
    "        if mask.shape[-1] != 1:\n",
    "            background = 1 - mask.sum(axis=-1, keepdims=True)\n",
    "            mask = np.concatenate((mask, background), axis=-1)\n",
    "        \n",
    "        # apply augmentations\n",
    "        if self.augmentation:\n",
    "            sample = self.augmentation(image=image, mask=mask)\n",
    "            image, mask = sample['image'], sample['mask']\n",
    "        \n",
    "        # apply preprocessing\n",
    "        if self.preprocessing:\n",
    "            sample = self.preprocessing(image=image, mask=mask)\n",
    "            image, mask = sample['image'], sample['mask']\n",
    "            \n",
    "        return image, mask\n",
    "        \n",
    "    def __len__(self):\n",
    "        return len(self.ids)\n",
    "    \n",
    "    \n",
    "class Dataloder(keras.utils.Sequence):\n",
    "    \"\"\"Load data from dataset and form batches\n",
    "    \n",
    "    Args:\n",
    "        dataset: instance of Dataset class for image loading and preprocessing.\n",
    "        batch_size: Integet number of images in batch.\n",
    "        shuffle: Boolean, if `True` shuffle image indexes each epoch.\n",
    "    \"\"\"\n",
    "    \n",
    "    def __init__(self, dataset, batch_size=1, shuffle=False):\n",
    "        self.dataset = dataset\n",
    "        self.batch_size = batch_size\n",
    "        self.shuffle = shuffle\n",
    "        self.indexes = np.arange(len(dataset))\n",
    "        self.on_epoch_end()\n",
    "\n",
    "    def __getitem__(self, i):    \n",
    "        # collect batch data\n",
    "        start = i * self.batch_size\n",
    "        stop = (i + 1) * self.batch_size\n",
    "        data = []\n",
    "        for j in range(start, stop):\n",
    "            data.append(self.dataset[j])\n",
    "        \n",
    "        # transpose list of lists\n",
    "        batch = [np.stack(samples, axis=0) for samples in zip(*data)]\n",
    "        \n",
    "        # newer version of tf/keras want batch to be in tuple rather than list\n",
    "        return tuple(batch)\n",
    "    \n",
    "    def __len__(self):\n",
    "        \"\"\"Denotes the number of batches per epoch\"\"\"\n",
    "        return len(self.indexes) // self.batch_size\n",
    "    \n",
    "    def on_epoch_end(self):\n",
    "        \"\"\"Callback function to shuffle indexes each epoch\"\"\"\n",
    "        if self.shuffle:\n",
    "            self.indexes = np.random.permutation(self.indexes)   "
   ],
   "outputs": [],
   "metadata": {}
  },
  {
   "cell_type": "markdown",
   "source": [
    "# Sanity Check Dataset"
   ],
   "metadata": {}
  },
  {
   "cell_type": "code",
   "execution_count": null,
   "source": [
    "dataset = Dataset(x_train_dir, y_train_dir, classes=CLASSES)\n",
    "\n",
    "image, mask = dataset[5] # get some sample\n",
    "\n",
    "tf.data.Dataset.from_tensor_slices() # make tf.dataset and save it as tfRecord\n",
    "visualize_dataset(image, mask, CLASSES)"
   ],
   "outputs": [],
   "metadata": {}
  },
  {
   "cell_type": "code",
   "execution_count": null,
   "source": [
    "def preprocessing() -> tf.data.Dataset:\n",
    "    preprocessing_fn = sm.get_preprocessing(BACKBONE)\n",
    "    \n",
    "    pass"
   ],
   "outputs": [],
   "metadata": {}
  },
  {
   "cell_type": "code",
   "execution_count": null,
   "source": [
    "def model_factory() -> keras.Model:\n",
    "    # define network parameters\n",
    "    n_classes = 1 if len(CLASSES) == 1 else (len(CLASSES) + 1)  # case for binary and multiclass segmentation\n",
    "    activation = 'sigmoid' if n_classes == 1 else 'softmax'\n",
    "\n",
    "    #create model\n",
    "    model = sm.Unet(BACKBONE, classes=n_classes, activation=activation)\n",
    "\n",
    "    # define optomizer\n",
    "    optim = keras.optimizers.Adam(LR)\n",
    "\n",
    "    # Segmentation models losses can be combined together by '+' and scaled by integer or float factor\n",
    "    # set class weights for dice_loss (car: 1.; pedestrian: 2.; background: 0.5;)\n",
    "    # TODO redefine class weights\n",
    "    dice_loss = sm.losses.DiceLoss(class_weights=np.array([1, 2, 0.5])) \n",
    "    focal_loss = sm.losses.BinaryFocalLoss() if n_classes == 1 else sm.losses.CategoricalFocalLoss()\n",
    "    total_loss = dice_loss + (1 * focal_loss)\n",
    "\n",
    "    # actulally total_loss can be imported directly from library, above example just show you how to manipulate with losses\n",
    "    # total_loss = sm.losses.binary_focal_dice_loss # or sm.losses.categorical_focal_dice_loss \n",
    "\n",
    "    metrics = [sm.metrics.IOUScore(threshold=0.5), sm.metrics.FScore(threshold=0.5)]\n",
    "\n",
    "    # compile keras model with defined optimozer, loss and metrics\n",
    "    model.compile(optim, total_loss, metrics)\n",
    "    return model"
   ],
   "outputs": [],
   "metadata": {}
  },
  {
   "cell_type": "code",
   "execution_count": null,
   "source": [
    "def train_model(data_generators, model, callbacks):\n",
    "    train_dataloader = data_generators[0]\n",
    "    valid_dataloader = data_generators[1]\n",
    "    # train model\n",
    "    history = model.fit(\n",
    "        train_dataloader, \n",
    "        steps_per_epoch=len(train_dataloader), \n",
    "        epochs=EPOCHS, \n",
    "        callbacks=callbacks, \n",
    "        validation_data=valid_dataloader, \n",
    "        validation_steps=len(valid_dataloader),\n",
    "    )\n",
    "    # TODO make this after eval for writing accuracy in the model name\n",
    "    save_path = os.path.join(MODEL_SAVE_PATH, f\"{}acc_{}.{}\")\n",
    "    model.save(save_path)"
   ],
   "outputs": [],
   "metadata": {}
  },
  {
   "cell_type": "code",
   "execution_count": null,
   "source": [
    "def evaluate_model(eval_generator, model):\n",
    "    pass"
   ],
   "outputs": [],
   "metadata": {}
  },
  {
   "cell_type": "code",
   "execution_count": null,
   "source": [
    "def plot_history(train_history):\n",
    "    # Plot training & validation iou_score values\n",
    "    plt.figure(figsize=(30, 5))\n",
    "    plt.subplot(121)\n",
    "    plt.plot(train_history.history['iou_score'])\n",
    "    plt.plot(train_history.history['val_iou_score'])\n",
    "    plt.title('Model iou_score')\n",
    "    plt.ylabel('iou_score')\n",
    "    plt.xlabel('Epoch')\n",
    "    plt.legend(['Train', 'Test'], loc='upper left')\n",
    "\n",
    "    # Plot training & validation loss values\n",
    "    plt.subplot(122)\n",
    "    plt.plot(train_history.history['loss'])\n",
    "    plt.plot(train_history.history['val_loss'])\n",
    "    plt.title('Model loss')\n",
    "    plt.ylabel('Loss')\n",
    "    plt.xlabel('Epoch')\n",
    "    plt.legend(['Train', 'Test'], loc='upper left')\n",
    "    plt.show()"
   ],
   "outputs": [],
   "metadata": {}
  },
  {
   "cell_type": "code",
   "execution_count": null,
   "source": [
    "# TODO Main code comes here\n",
    "generators = preprocessing()\n",
    "model = model_factory()\n"
   ],
   "outputs": [],
   "metadata": {}
  },
  {
   "cell_type": "code",
   "execution_count": 4,
   "source": [
    "model_double_unet = sm.custom.Double_Unet(backbone_name=\"vgg19\", encoder_weights=None, input_shape=(512,512,3), classes=6)\n",
    "# for the class problem solution is simple make softmax like sigmoid, if background class has the heighest probility count that pixel as 0\n",
    "# if another class is higher count that as 1. think about another way to make 2nd model consider whole image. Also in the last layer\n",
    "# you can add class probility\n"
   ],
   "outputs": [
    {
     "output_type": "stream",
     "name": "stdout",
     "text": [
      "Starting up Double Unet initialization...\n",
      "Processing settings...\n",
      "Settings initialized. Starting to build model.\n",
      "ASPP-1 initialized...\n",
      "Decoder-1 initialized...\n",
      "Output-1 initialized...\n",
      "output is KerasTensor(type_spec=TensorSpec(shape=(None, 512, 512, 6), dtype=tf.float32, name=None), name='activation_3/Softmax:0', description=\"created by layer 'activation_3'\")\n",
      "x is KerasTensor(type_spec=TensorSpec(shape=(None, 512, 512, 6), dtype=tf.float32, name=None), name='tf.math.multiply_2/Mul:0', description=\"created by layer 'tf.math.multiply_2'\")\n",
      "Encoder-2 initialized...\n",
      "ASPP-2 initialized...\n",
      "Decoder-2 initialized...\n",
      "Output-2 initialized...\n",
      "Model initialization complete.\n"
     ]
    }
   ],
   "metadata": {}
  },
  {
   "cell_type": "code",
   "execution_count": null,
   "source": [
    "from tensorflow.keras.callbacks import TensorBoard\n",
    "tensorboard_callback = TensorBoard(\n",
    "    log_dir=\"logs\",\n",
    "    histogram_freq=0,\n",
    "    write_graph=True,\n",
    "    write_images=False,\n",
    "    update_freq=\"epoch\",\n",
    ")"
   ],
   "outputs": [],
   "metadata": {}
  },
  {
   "cell_type": "code",
   "execution_count": null,
   "source": [
    "model_double_unet.compile(optimizer = 'adam', loss = 'binary_crossentropy', metrics = ['accuracy'])\n",
    "model_double_unet.fit(X_train, y_train, batch_size = 32, epochs = 50, callbacks=[tensorboard_callback])"
   ],
   "outputs": [],
   "metadata": {}
  }
 ],
 "metadata": {
  "orig_nbformat": 4,
  "language_info": {
   "name": "python",
   "version": "3.9.6",
   "mimetype": "text/x-python",
   "codemirror_mode": {
    "name": "ipython",
    "version": 3
   },
   "pygments_lexer": "ipython3",
   "nbconvert_exporter": "python",
   "file_extension": ".py"
  },
  "kernelspec": {
   "name": "python3",
   "display_name": "Python 3.9.6 64-bit"
  },
  "interpreter": {
   "hash": "06502dce86d74bc478d17a288c655cf1bbc76b90e9d5c1d600522c777dd287fe"
  }
 },
 "nbformat": 4,
 "nbformat_minor": 2
}