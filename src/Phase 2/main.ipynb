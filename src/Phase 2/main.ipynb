{
 "cells": [
  {
   "cell_type": "code",
   "execution_count": 1,
   "source": [
    "# Here is the imports\r\n",
    "from tensorflow import keras\r\n",
    "import numpy as np\r\n",
    "#import matplotlib.pylot as plt\r\n",
    "import tensorflow as tf\r\n",
    "import segmentation_models as sm\r\n",
    "sm.set_framework('tf.keras')\r\n",
    "import os\r\n",
    "from matplotlib import pyplot as plt\r\n",
    "import cv2\r\n",
    "# segmentation_models could also use `tf.keras` if you do not have Keras installed\r\n",
    "# or you could switch to other framework using `sm.set_framework('tf.keras')`\r\n",
    "#aman amana nerelere geldik"
   ],
   "outputs": [
    {
     "output_type": "stream",
     "name": "stderr",
     "text": [
      "2021-08-12 22:20:07.814282: I tensorflow/stream_executor/platform/default/dso_loader.cc:53] Successfully opened dynamic library libcudart.so.11.0\n"
     ]
    },
    {
     "output_type": "stream",
     "name": "stdout",
     "text": [
      "Segmentation Models: using `tf.keras` framework.\n"
     ]
    }
   ],
   "metadata": {}
  },
  {
   "cell_type": "markdown",
   "source": [
    "<h1>CONSTANTS</h1>"
   ],
   "metadata": {}
  },
  {
   "cell_type": "code",
   "execution_count": null,
   "source": [
    "# Dataset Constants\r\n",
    "DATASET_PATH = \".\\\\dataset\\\\\"\r\n",
    "TRAIN_DIR = \"train\"\r\n",
    "VAL_DIR = \"validation\"\r\n",
    "TEST_DIR = \"test\"\r\n",
    "\r\n",
    "DATA_DIR = \"data\"\r\n",
    "LABEL_DIR = \"label\"\r\n",
    "\r\n",
    "# Model Constants\r\n",
    "BACKBONE = 'efficientnetb3'\r\n",
    "BATCH_SIZE = 2\r\n",
    "# unlabelled 0, iskemik 1, hemorajik 2\r\n",
    "MASK_CLASSES = ['background', 'iskemik', 'kanama']\r\n",
    "# format image 512,512,3 mask 512,512,class_num each 512,512 mask involves true and false for each class\r\n",
    "CLASSES = ['iskemik', 'kanama']\r\n",
    "LR = 0.0001\r\n",
    "EPOCHS = 40\r\n",
    "MODEL_SAVE_PATH = \"./models\""
   ],
   "outputs": [],
   "metadata": {}
  },
  {
   "cell_type": "code",
   "execution_count": null,
   "source": [
    "# Variables\r\n",
    "x_train_dir = os.path.join(DATASET_PATH, TRAIN_DIR, DATA_DIR)\r\n",
    "y_train_dir = os.path.join(DATASET_PATH, TRAIN_DIR, LABEL_DIR)\r\n",
    "\r\n",
    "x_val_dir = os.path.join(DATASET_PATH, VAL_DIR, DATA_DIR)\r\n",
    "y_val_dir = os.path.join(DATASET_PATH, VAL_DIR, LABEL_DIR)\r\n",
    "\r\n",
    "x_test_dir = os.path.join(DATASET_PATH, TEST_DIR, DATA_DIR)\r\n",
    "y_test_dir = os.path.join(DATASET_PATH, TEST_DIR, LABEL_DIR)\r\n",
    "\r\n",
    "# define callbacks for learning rate scheduling and best checkpoints saving\r\n",
    "callbacks = [\r\n",
    "    keras.callbacks.ModelCheckpoint('./best_model.h5', save_weights_only=True, save_best_only=True, mode='min'),\r\n",
    "    keras.callbacks.ReduceLROnPlateau(),\r\n",
    "]"
   ],
   "outputs": [],
   "metadata": {}
  },
  {
   "cell_type": "markdown",
   "source": [
    "# Dataloader and utility functions "
   ],
   "metadata": {}
  },
  {
   "cell_type": "code",
   "execution_count": null,
   "source": [
    "# helper function for data visualization\r\n",
    "def visualize(**images):\r\n",
    "    \"\"\"Plot images in one row.\"\"\"\r\n",
    "    n = len(images)\r\n",
    "    plt.figure(figsize=(16, 5))\r\n",
    "    for i, (name, image) in enumerate(images.items()):\r\n",
    "        plt.subplot(1, n, i + 1)\r\n",
    "        plt.xticks([])\r\n",
    "        plt.yticks([])\r\n",
    "        plt.title(' '.join(name.split('_')).title())\r\n",
    "        plt.imshow(image)\r\n",
    "    plt.show()\r\n",
    "\r\n",
    "def visualize_dataset(img, mask, classes):\r\n",
    "    kwarg = {'image': img}\r\n",
    "    for i in range(len(classes+1)):\r\n",
    "        kwarg.update({classes[i] : mask[..., i].squeeze()})\r\n",
    "    visualize(**kwarg)\r\n",
    "\r\n",
    "    \r\n",
    "# helper function for data visualization    \r\n",
    "def denormalize(x):\r\n",
    "    \"\"\"Scale image to range 0..1 for correct plot\"\"\"\r\n",
    "    x_max = np.percentile(x, 98)\r\n",
    "    x_min = np.percentile(x, 2)    \r\n",
    "    x = (x - x_min) / (x_max - x_min)\r\n",
    "    x = x.clip(0, 1)\r\n",
    "    return x\r\n",
    "    \r\n",
    "\r\n",
    "# classes for data loading and preprocessing\r\n",
    "class Dataset:\r\n",
    "    \"\"\"CamVid Dataset. Read images, apply augmentation and preprocessing transformations.\r\n",
    "    \r\n",
    "    Args:\r\n",
    "        images_dir (str): path to images folder\r\n",
    "        masks_dir (str): path to segmentation masks folder\r\n",
    "        class_values (list): values of classes to extract from segmentation mask\r\n",
    "        augmentation (albumentations.Compose): data transfromation pipeline \r\n",
    "            (e.g. flip, scale, etc.)\r\n",
    "        preprocessing (albumentations.Compose): data preprocessing \r\n",
    "            (e.g. noralization, shape manipulation, etc.)\r\n",
    "    \r\n",
    "    \"\"\"\r\n",
    "    \r\n",
    "    def __init__(\r\n",
    "            self, \r\n",
    "            images_dir, \r\n",
    "            masks_dir, \r\n",
    "            classes=None, \r\n",
    "            augmentation=None, \r\n",
    "            preprocessing=None,\r\n",
    "    ):\r\n",
    "        self.ids = os.listdir(images_dir)\r\n",
    "        self.images_fps = [os.path.join(images_dir, image_id) for image_id in self.ids]\r\n",
    "        self.masks_fps = [os.path.join(masks_dir, image_id) for image_id in self.ids]\r\n",
    "        self.CLASSES = MASK_CLASSES\r\n",
    "        # convert str names to class values on masks\r\n",
    "        self.class_values = [self.CLASSES.index(cls.lower()) for cls in classes]\r\n",
    "        \r\n",
    "        self.augmentation = augmentation\r\n",
    "        self.preprocessing = preprocessing\r\n",
    "    \r\n",
    "    def __getitem__(self, i):\r\n",
    "        \r\n",
    "        # read data\r\n",
    "        image = cv2.imread(self.images_fps[i])\r\n",
    "        image = cv2.cvtColor(image, cv2.COLOR_BGR2RGB)\r\n",
    "        mask = cv2.imread(self.masks_fps[i], 0)\r\n",
    "        \r\n",
    "        # extract certain classes from mask (e.g. cars)\r\n",
    "        masks = [(mask == v) for v in self.class_values]\r\n",
    "        mask = np.stack(masks, axis=-1).astype('float')\r\n",
    "        \r\n",
    "        # add background if mask is not binary\r\n",
    "        if mask.shape[-1] != 1:\r\n",
    "            background = 1 - mask.sum(axis=-1, keepdims=True)\r\n",
    "            mask = np.concatenate((mask, background), axis=-1)\r\n",
    "        \r\n",
    "        # apply augmentations\r\n",
    "        if self.augmentation:\r\n",
    "            sample = self.augmentation(image=image, mask=mask)\r\n",
    "            image, mask = sample['image'], sample['mask']\r\n",
    "        \r\n",
    "        # apply preprocessing\r\n",
    "        if self.preprocessing:\r\n",
    "            sample = self.preprocessing(image=image, mask=mask)\r\n",
    "            image, mask = sample['image'], sample['mask']\r\n",
    "            \r\n",
    "        return image, mask\r\n",
    "        \r\n",
    "    def __len__(self):\r\n",
    "        return len(self.ids)\r\n",
    "    \r\n",
    "    \r\n",
    "class Dataloder(keras.utils.Sequence):\r\n",
    "    \"\"\"Load data from dataset and form batches\r\n",
    "    \r\n",
    "    Args:\r\n",
    "        dataset: instance of Dataset class for image loading and preprocessing.\r\n",
    "        batch_size: Integet number of images in batch.\r\n",
    "        shuffle: Boolean, if `True` shuffle image indexes each epoch.\r\n",
    "    \"\"\"\r\n",
    "    \r\n",
    "    def __init__(self, dataset, batch_size=1, shuffle=False):\r\n",
    "        self.dataset = dataset\r\n",
    "        self.batch_size = batch_size\r\n",
    "        self.shuffle = shuffle\r\n",
    "        self.indexes = np.arange(len(dataset))\r\n",
    "        self.on_epoch_end()\r\n",
    "\r\n",
    "    def __getitem__(self, i):    \r\n",
    "        # collect batch data\r\n",
    "        start = i * self.batch_size\r\n",
    "        stop = (i + 1) * self.batch_size\r\n",
    "        data = []\r\n",
    "        for j in range(start, stop):\r\n",
    "            data.append(self.dataset[j])\r\n",
    "        \r\n",
    "        # transpose list of lists\r\n",
    "        batch = [np.stack(samples, axis=0) for samples in zip(*data)]\r\n",
    "        \r\n",
    "        # newer version of tf/keras want batch to be in tuple rather than list\r\n",
    "        return tuple(batch)\r\n",
    "    \r\n",
    "    def __len__(self):\r\n",
    "        \"\"\"Denotes the number of batches per epoch\"\"\"\r\n",
    "        return len(self.indexes) // self.batch_size\r\n",
    "    \r\n",
    "    def on_epoch_end(self):\r\n",
    "        \"\"\"Callback function to shuffle indexes each epoch\"\"\"\r\n",
    "        if self.shuffle:\r\n",
    "            self.indexes = np.random.permutation(self.indexes)   "
   ],
   "outputs": [],
   "metadata": {}
  },
  {
   "cell_type": "markdown",
   "source": [
    "# Sanity Check Dataset"
   ],
   "metadata": {}
  },
  {
   "cell_type": "code",
   "execution_count": null,
   "source": [
    "dataset = Dataset(x_train_dir, y_train_dir, classes=CLASSES)\n",
    "\n",
    "image, mask = dataset[5] # get some sample\n",
    "\n",
    "tf.data.Dataset.from_tensor_slices() # make tf.dataset and save it as tfRecord\n",
    "visualize_dataset(image, mask, CLASSES)"
   ],
   "outputs": [],
   "metadata": {}
  },
  {
   "cell_type": "code",
   "execution_count": null,
   "source": [
    "def preprocessing() -> tf.data.Dataset:\n",
    "    preprocessing_fn = sm.get_preprocessing(BACKBONE)\n",
    "    \n",
    "    pass"
   ],
   "outputs": [],
   "metadata": {}
  },
  {
   "cell_type": "code",
   "execution_count": null,
   "source": [
    "def model_factory() -> keras.Model:\n",
    "    # define network parameters\n",
    "    n_classes = 1 if len(CLASSES) == 1 else (len(CLASSES) + 1)  # case for binary and multiclass segmentation\n",
    "    activation = 'sigmoid' if n_classes == 1 else 'softmax'\n",
    "\n",
    "    #create model\n",
    "    model = sm.Unet(BACKBONE, classes=n_classes, activation=activation)\n",
    "\n",
    "    # define optomizer\n",
    "    optim = keras.optimizers.Adam(LR)\n",
    "\n",
    "    # Segmentation models losses can be combined together by '+' and scaled by integer or float factor\n",
    "    # set class weights for dice_loss (car: 1.; pedestrian: 2.; background: 0.5;)\n",
    "    # TODO redefine class weights\n",
    "    dice_loss = sm.losses.DiceLoss(class_weights=np.array([1, 2, 0.5])) \n",
    "    focal_loss = sm.losses.BinaryFocalLoss() if n_classes == 1 else sm.losses.CategoricalFocalLoss()\n",
    "    total_loss = dice_loss + (1 * focal_loss)\n",
    "\n",
    "    # actulally total_loss can be imported directly from library, above example just show you how to manipulate with losses\n",
    "    # total_loss = sm.losses.binary_focal_dice_loss # or sm.losses.categorical_focal_dice_loss \n",
    "\n",
    "    metrics = [sm.metrics.IOUScore(threshold=0.5), sm.metrics.FScore(threshold=0.5)]\n",
    "\n",
    "    # compile keras model with defined optimozer, loss and metrics\n",
    "    model.compile(optim, total_loss, metrics)\n",
    "    return model"
   ],
   "outputs": [],
   "metadata": {}
  },
  {
   "cell_type": "code",
   "execution_count": null,
   "source": [
    "def train_model(data_generators, model, callbacks):\n",
    "    train_dataloader = data_generators[0]\n",
    "    valid_dataloader = data_generators[1]\n",
    "    # train model\n",
    "    history = model.fit(\n",
    "        train_dataloader, \n",
    "        steps_per_epoch=len(train_dataloader), \n",
    "        epochs=EPOCHS, \n",
    "        callbacks=callbacks, \n",
    "        validation_data=valid_dataloader, \n",
    "        validation_steps=len(valid_dataloader),\n",
    "    )\n",
    "    # TODO make this after eval for writing accuracy in the model name\n",
    "    save_path = os.path.join(MODEL_SAVE_PATH, f\"{}acc_{}.{}\")\n",
    "    model.save(save_path)"
   ],
   "outputs": [],
   "metadata": {}
  },
  {
   "cell_type": "code",
   "execution_count": null,
   "source": [
    "def evaluate_model(eval_generator, model):\n",
    "    pass"
   ],
   "outputs": [],
   "metadata": {}
  },
  {
   "cell_type": "code",
   "execution_count": null,
   "source": [
    "def plot_history(train_history):\n",
    "    # Plot training & validation iou_score values\n",
    "    plt.figure(figsize=(30, 5))\n",
    "    plt.subplot(121)\n",
    "    plt.plot(train_history.history['iou_score'])\n",
    "    plt.plot(train_history.history['val_iou_score'])\n",
    "    plt.title('Model iou_score')\n",
    "    plt.ylabel('iou_score')\n",
    "    plt.xlabel('Epoch')\n",
    "    plt.legend(['Train', 'Test'], loc='upper left')\n",
    "\n",
    "    # Plot training & validation loss values\n",
    "    plt.subplot(122)\n",
    "    plt.plot(train_history.history['loss'])\n",
    "    plt.plot(train_history.history['val_loss'])\n",
    "    plt.title('Model loss')\n",
    "    plt.ylabel('Loss')\n",
    "    plt.xlabel('Epoch')\n",
    "    plt.legend(['Train', 'Test'], loc='upper left')\n",
    "    plt.show()"
   ],
   "outputs": [],
   "metadata": {}
  },
  {
   "cell_type": "code",
   "execution_count": null,
   "source": [
    "# TODO Main code comes here\n",
    "generators = preprocessing()\n",
    "model = model_factory()\n"
   ],
   "outputs": [],
   "metadata": {}
  },
  {
   "cell_type": "code",
   "execution_count": 4,
   "source": [
    "model_double_unet = sm.custom.Double_Unet(backbone_name=\"vgg19\", encoder_weights=None, input_shape=(512,512,3), classes=6)\n",
    "# for the class problem solution is simple make softmax like sigmoid, if background class has the heighest probility count that pixel as 0\n",
    "# if another class is higher count that as 1. think about another way to make 2nd model consider whole image. Also in the last layer\n",
    "# you can add class probility\n"
   ],
   "outputs": [
    {
     "output_type": "stream",
     "name": "stdout",
     "text": [
      "Starting up Double Unet initialization...\n",
      "Processing settings...\n",
      "Settings initialized. Starting to build model.\n",
      "ASPP-1 initialized...\n",
      "Decoder-1 initialized...\n",
      "Output-1 initialized...\n",
      "output is KerasTensor(type_spec=TensorSpec(shape=(None, 512, 512, 6), dtype=tf.float32, name=None), name='activation_3/Softmax:0', description=\"created by layer 'activation_3'\")\n",
      "x is KerasTensor(type_spec=TensorSpec(shape=(None, 512, 512, 6), dtype=tf.float32, name=None), name='tf.math.multiply_2/Mul:0', description=\"created by layer 'tf.math.multiply_2'\")\n",
      "Encoder-2 initialized...\n",
      "ASPP-2 initialized...\n",
      "Decoder-2 initialized...\n",
      "Output-2 initialized...\n",
      "Model initialization complete.\n"
     ]
    }
   ],
   "metadata": {}
  },
  {
   "cell_type": "code",
   "execution_count": null,
   "source": [
    "from tensorflow.keras.callbacks import TensorBoard\n",
    "tensorboard_callback = TensorBoard(\n",
    "    log_dir=\"logs\",\n",
    "    histogram_freq=0,\n",
    "    write_graph=True,\n",
    "    write_images=False,\n",
    "    update_freq=\"epoch\",\n",
    ")"
   ],
   "outputs": [],
   "metadata": {}
  },
  {
   "cell_type": "code",
   "execution_count": null,
   "source": [
    "model_double_unet.compile(optimizer = 'adam', loss = 'binary_crossentropy', metrics = ['accuracy'])\n",
    "model_double_unet.fit(X_train, y_train, batch_size = 32, epochs = 50, callbacks=[tensorboard_callback])"
   ],
   "outputs": [],
   "metadata": {}
  }
 ],
 "metadata": {
  "orig_nbformat": 4,
  "language_info": {
   "name": "python",
   "version": "3.9.6",
   "mimetype": "text/x-python",
   "codemirror_mode": {
    "name": "ipython",
    "version": 3
   },
   "pygments_lexer": "ipython3",
   "nbconvert_exporter": "python",
   "file_extension": ".py"
  },
  "kernelspec": {
   "name": "python3",
   "display_name": "Python 3.9.6 64-bit"
  },
  "interpreter": {
   "hash": "06502dce86d74bc478d17a288c655cf1bbc76b90e9d5c1d600522c777dd287fe"
  }
 },
 "nbformat": 4,
 "nbformat_minor": 2
}