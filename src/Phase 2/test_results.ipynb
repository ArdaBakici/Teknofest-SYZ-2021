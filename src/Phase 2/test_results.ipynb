{
 "cells": [
  {
   "cell_type": "code",
   "execution_count": 2,
   "source": [
    "# Here is the imports\n",
    "import os\n",
    "\n",
    "import numpy as np\n",
    "from matplotlib import pyplot as plt\n",
    "import cv2\n",
    "from glob import glob"
   ],
   "outputs": [],
   "metadata": {}
  },
  {
   "cell_type": "code",
   "execution_count": null,
   "source": [
    "# Dataset Constants\n",
    "data_dir = './data/dataset1/data/'\n",
    "label_dir = './data/dataset1/label/'\n",
    "IMG_EXT = 'png'\n",
    "BATCH_SIZE = 1\n",
    "LR = 0.0001\n",
    "# Model Constants\n",
    "BACKBONE = 'efficientnetb3'\n",
    "# unlabelled 0, iskemik 1, hemorajik 2\n",
    "CLASSES = ['iskemik', 'kanama']"
   ],
   "outputs": [],
   "metadata": {}
  },
  {
   "cell_type": "code",
   "execution_count": null,
   "source": [
    "# helper function for data visualization\n",
    "def visualize(**images):\n",
    "    \"\"\"Plot images in one row.\"\"\"\n",
    "    n = len(images)\n",
    "    plt.figure(figsize=(16, 5))\n",
    "    for i, (name, image) in enumerate(images.items()):\n",
    "        plt.subplot(1, n, i + 1)\n",
    "        plt.xticks([])\n",
    "        plt.yticks([])\n",
    "        plt.title(' '.join(name.split('_')).title())\n",
    "        # if whole binary image is true plt shows it as whole image is false so for bypassing this issue we assing one pixels value to 0\n",
    "        image[1,1] = 0 \n",
    "        plt.imshow(image)\n",
    "    plt.show()\n",
    "\n",
    "def visualize_dataset(img, mask, classes):\n",
    "    kwarg = {'image': img}\n",
    "    for i in range(len(classes)):\n",
    "        kwarg.update({classes[i] : mask[..., i].squeeze()})\n",
    "    visualize(**kwarg)\n",
    "\n",
    "# helper function for data visualization    \n",
    "def denormalize(x):\n",
    "    \"\"\"Scale image to range 0..1 for correct plot\"\"\"\n",
    "    x_max = np.percentile(x, 98)\n",
    "    x_min = np.percentile(x, 2)    \n",
    "    x = (x - x_min) / (x_max - x_min)\n",
    "    x = x.clip(0, 1)\n",
    "    return x"
   ],
   "outputs": [],
   "metadata": {}
  },
  {
   "cell_type": "code",
   "execution_count": null,
   "source": [
    "predict_filenames = glob(f\"{data_dir}*.{IMG_EXT}\")\n",
    "predict_filenames = sorted(predict_filenames[:100])\n",
    "label_filenames = [f.replace(data_dir, label_dir) for f in predict_filenames]\n",
    "print(predict_filenames[:10])\n",
    "print(label_filenames[:10])\n",
    "for i in range(len(label_filenames)):\n",
    "    if predict_filenames[i] != './data/dataset1/data/14308.png':\n",
    "        pass \n",
    "    img = cv2.imread(predict_filenames[i])\n",
    "    img = cv2.cvtColor(img, cv2.COLOR_BGR2RGB)\n",
    "    label = cv2.imread(label_filenames[i], 0)\n",
    "\n",
    "    masks = [(label == v) for v in [0, 1, 2]]\n",
    "    # R, G, B\n",
    "    # bg = 0\n",
    "    # parlaklar = 1\n",
    "    # koyular = 2\n",
    "    mask = np.stack(masks, axis=-1).astype('uint8')\n",
    "    #print(mask)\n",
    "\n",
    "    if np.any(label):\n",
    "        visualize(\n",
    "            Test=cv2.addWeighted(img, 1, mask*255, 0.5, 0),\n",
    "            Görüntü=img.squeeze(),\n",
    "            Etiket=(label*122).squeeze()\n",
    "            )"
   ],
   "outputs": [],
   "metadata": {}
  }
 ],
 "metadata": {
  "orig_nbformat": 4,
  "language_info": {
   "name": "python",
   "version": "3.9.7",
   "mimetype": "text/x-python",
   "codemirror_mode": {
    "name": "ipython",
    "version": 3
   },
   "pygments_lexer": "ipython3",
   "nbconvert_exporter": "python",
   "file_extension": ".py"
  },
  "kernelspec": {
   "name": "python3",
   "display_name": "Python 3.9.7 64-bit ('teknofest-venv': venv)"
  },
  "interpreter": {
   "hash": "c3b109d40fe907ead7ade9c1b48b16b3bef4465b369e345f2adfa6bf3aa7e6e2"
  }
 },
 "nbformat": 4,
 "nbformat_minor": 2
}