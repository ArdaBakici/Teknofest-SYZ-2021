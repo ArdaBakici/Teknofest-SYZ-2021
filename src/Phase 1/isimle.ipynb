{
 "cells": [
  {
   "cell_type": "code",
   "execution_count": 1,
   "source": [
    "import matplotlib.pyplot as plt\n",
    "import numpy as np\n",
    "import os\n",
    "from os import listdir\n",
    "from os.path import isfile, join, splitext\n",
    "import sys\n",
    "import tensorflow as tf\n",
    "import csv\n",
    "\n",
    "import pandas as pd\n",
    "\n",
    "from tensorflow.keras.preprocessing import image_dataset_from_directory\n",
    "from tensorflow.keras.applications.imagenet_utils import preprocess_input\n",
    "from tensorflow.keras.models import load_model\n",
    "from tensorflow.keras.preprocessing import image\n",
    "from efficientnet import tfkeras as eff\n",
    "from tqdm import tqdm\n",
    "import cv2"
   ],
   "outputs": [],
   "metadata": {}
  },
  {
   "cell_type": "code",
   "execution_count": 31,
   "source": [
    "import math\n",
    "\n",
    "def sigmoid(x):\n",
    "  return 1 / (1 + math.exp(-x))"
   ],
   "outputs": [],
   "metadata": {}
  },
  {
   "cell_type": "code",
   "execution_count": 2,
   "source": [
    "def model_predict(img, model):\n",
    "    \n",
    "    x = image.img_to_array(img)\n",
    "    x = np.expand_dims(x, axis=0)\n",
    "    #x = preprocess_input(x, mode='tf')\n",
    "    \n",
    "    preds = model.predict(x)\n",
    "    \n",
    "    return preds"
   ],
   "outputs": [],
   "metadata": {}
  },
  {
   "cell_type": "code",
   "execution_count": 3,
   "source": [
    "def evv(model_dir,path=\"./test\",image_size=(512,512)):\n",
    "    idler = []\n",
    "    a = 0\n",
    "    b = 0\n",
    "    etiketler = []\n",
    "    model = tf.keras.models.load_model(model_dir)\n",
    "    images = [f for f in listdir(path) if isfile(join(path, f))]\n",
    "    no=0\n",
    "    for i in tqdm(images):\n",
    "        no = no + 1\n",
    "        idler.append(splitext(i)[0])\n",
    "        img = cv2.imread(join(path,i))\n",
    "        img = cv2.cvtColor(img, cv2.COLOR_BGR2RGB)\n",
    "        preds = model_predict(img, model)\n",
    "        result = preds[0,0]\n",
    "        #result = sigmoid(result)\n",
    "        if result>0.5:\n",
    "            etiketler.append(1)\n",
    "        else:\n",
    "            etiketler.append(0)\n",
    "    for i in etiketler:\n",
    "        if i == 1:\n",
    "            a += 1\n",
    "        else:\n",
    "            b+= 1\n",
    "    print(f\"a is {a} b is {b}\")\n",
    "    tuplee = list(zip(idler, etiketler)) \n",
    "    dataframe = pd.DataFrame(tuplee, columns=['ID', 'ETİKET'])\n",
    "    dataframe.to_csv('OTURUM1.csv', index=False, encoding='utf-8')\n",
    "    return None"
   ],
   "outputs": [],
   "metadata": {}
  },
  {
   "cell_type": "code",
   "execution_count": 4,
   "source": [
    "evv(model_dir=\"./models/22_09-22_31-eff_final_recordbase/best.h5\",path=\"./data/test/\")\n",
    "#evv(model_dir=\"./models/old_models/fullyconnected_dense+vgg.h5\",path=\"./data/test/\")"
   ],
   "outputs": [
    {
     "output_type": "stream",
     "name": "stderr",
     "text": [
      "2021-09-23 08:02:05.045946: I tensorflow/stream_executor/cuda/cuda_gpu_executor.cc:937] successful NUMA node read from SysFS had negative value (-1), but there must be at least one NUMA node, so returning NUMA node zero\n",
      "2021-09-23 08:02:05.325720: I tensorflow/stream_executor/cuda/cuda_gpu_executor.cc:937] successful NUMA node read from SysFS had negative value (-1), but there must be at least one NUMA node, so returning NUMA node zero\n",
      "2021-09-23 08:02:05.327489: I tensorflow/stream_executor/cuda/cuda_gpu_executor.cc:937] successful NUMA node read from SysFS had negative value (-1), but there must be at least one NUMA node, so returning NUMA node zero\n",
      "2021-09-23 08:02:05.330486: I tensorflow/core/platform/cpu_feature_guard.cc:142] This TensorFlow binary is optimized with oneAPI Deep Neural Network Library (oneDNN) to use the following CPU instructions in performance-critical operations:  FMA\n",
      "To enable them in other operations, rebuild TensorFlow with the appropriate compiler flags.\n",
      "2021-09-23 08:02:05.337938: I tensorflow/stream_executor/cuda/cuda_gpu_executor.cc:937] successful NUMA node read from SysFS had negative value (-1), but there must be at least one NUMA node, so returning NUMA node zero\n",
      "2021-09-23 08:02:05.339513: I tensorflow/stream_executor/cuda/cuda_gpu_executor.cc:937] successful NUMA node read from SysFS had negative value (-1), but there must be at least one NUMA node, so returning NUMA node zero\n",
      "2021-09-23 08:02:05.340870: I tensorflow/stream_executor/cuda/cuda_gpu_executor.cc:937] successful NUMA node read from SysFS had negative value (-1), but there must be at least one NUMA node, so returning NUMA node zero\n",
      "2021-09-23 08:02:08.100533: I tensorflow/stream_executor/cuda/cuda_gpu_executor.cc:937] successful NUMA node read from SysFS had negative value (-1), but there must be at least one NUMA node, so returning NUMA node zero\n",
      "2021-09-23 08:02:08.101984: I tensorflow/stream_executor/cuda/cuda_gpu_executor.cc:937] successful NUMA node read from SysFS had negative value (-1), but there must be at least one NUMA node, so returning NUMA node zero\n",
      "2021-09-23 08:02:08.103376: I tensorflow/stream_executor/cuda/cuda_gpu_executor.cc:937] successful NUMA node read from SysFS had negative value (-1), but there must be at least one NUMA node, so returning NUMA node zero\n",
      "2021-09-23 08:02:08.104475: I tensorflow/core/common_runtime/gpu/gpu_device.cc:1510] Created device /job:localhost/replica:0/task:0/device:GPU:0 with 4690 MB memory:  -> device: 0, name: NVIDIA GeForce GTX 1660 Ti with Max-Q Design, pci bus id: 0000:01:00.0, compute capability: 7.5\n",
      "2021-09-23 08:02:08.111798: I tensorflow/core/common_runtime/process_util.cc:146] Creating new thread pool with default inter op setting: 2. Tune using inter_op_parallelism_threads for best performance.\n",
      "  0%|          | 0/266 [00:00<?, ?it/s]2021-09-23 08:02:13.699199: I tensorflow/compiler/mlir/mlir_graph_optimization_pass.cc:185] None of the MLIR Optimization Passes are enabled (registered 2)\n",
      "2021-09-23 08:02:18.034811: I tensorflow/stream_executor/cuda/cuda_dnn.cc:369] Loaded cuDNN version 8204\n",
      "100%|██████████| 266/266 [00:31<00:00,  8.34it/s]"
     ]
    },
    {
     "output_type": "stream",
     "name": "stdout",
     "text": [
      "a is 122 b is 144\n"
     ]
    },
    {
     "output_type": "stream",
     "name": "stderr",
     "text": [
      "\n"
     ]
    }
   ],
   "metadata": {
    "scrolled": true
   }
  }
 ],
 "metadata": {
  "kernelspec": {
   "name": "python3",
   "display_name": "Python 2.7.18 64-bit"
  },
  "language_info": {
   "codemirror_mode": {
    "name": "ipython",
    "version": 3
   },
   "file_extension": ".py",
   "mimetype": "text/x-python",
   "name": "python",
   "nbconvert_exporter": "python",
   "pygments_lexer": "ipython3",
   "version": "2.7.18"
  },
  "interpreter": {
   "hash": "07ebf75e1f06d59b091ecf4928fd6397d01a762bb7b518f3095c858035d59ca6"
  }
 },
 "nbformat": 4,
 "nbformat_minor": 4
}