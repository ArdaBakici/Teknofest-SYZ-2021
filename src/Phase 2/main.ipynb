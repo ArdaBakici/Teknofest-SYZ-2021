{
 "cells": [
  {
   "cell_type": "code",
   "execution_count": 2,
   "source": [
    "# Enviroment Variables\r\n",
    "import os\r\n",
    "os.environ['TF_GPU_THREAD_MODE'] = 'gpu_private'\r\n",
    "# ! Important ! tf.data.shuffle uses a special malloc called tcmalloc. If this malloc is not dynamicly linked it will cause a memory leak!\r\n",
    "# LD_PRELOAD=/usr/lib/libtcmalloc_minimal.so.4"
   ],
   "outputs": [],
   "metadata": {}
  },
  {
   "cell_type": "code",
   "execution_count": null,
   "source": [
    "# Here is the imports\r\n",
    "from tensorflow import keras\r\n",
    "import numpy as np\r\n",
    "import tensorflow as tf\r\n",
    "import segmentation_models as sm\r\n",
    "sm.set_framework('tf.keras')\r\n",
    "from matplotlib import pyplot as plt\r\n",
    "AUTOTUNE = tf.data.AUTOTUNE\r\n",
    "import random\r\n",
    "from datetime import datetime\r\n",
    "from tensorflow.keras.callbacks import TensorBoard\r\n",
    "# segmentation_models could also use `tf.keras` if you do not have Keras installed\r\n",
    "# or you could switch to other framework using `sm.set_framework('tf.keras')`"
   ],
   "outputs": [
    {
     "output_type": "error",
     "ename": "Error",
     "evalue": "Session cannot generate requests",
     "traceback": [
      "Error: Session cannot generate requests",
      "at w.executeCodeCell (c:\\Users\\ardab\\.vscode\\extensions\\ms-toolsai.jupyter-2021.8.2031190714\\out\\client\\extension.js:52:301310)",
      "at w.execute (c:\\Users\\ardab\\.vscode\\extensions\\ms-toolsai.jupyter-2021.8.2031190714\\out\\client\\extension.js:52:300703)",
      "at w.start (c:\\Users\\ardab\\.vscode\\extensions\\ms-toolsai.jupyter-2021.8.2031190714\\out\\client\\extension.js:52:296367)",
      "at runMicrotasks (<anonymous>)",
      "at processTicksAndRejections (internal/process/task_queues.js:93:5)",
      "at async t.CellExecutionQueue.executeQueuedCells (c:\\Users\\ardab\\.vscode\\extensions\\ms-toolsai.jupyter-2021.8.2031190714\\out\\client\\extension.js:52:311160)",
      "at async t.CellExecutionQueue.start (c:\\Users\\ardab\\.vscode\\extensions\\ms-toolsai.jupyter-2021.8.2031190714\\out\\client\\extension.js:52:310700)"
     ]
    }
   ],
   "metadata": {}
  },
  {
   "cell_type": "markdown",
   "source": [
    "<h1>CONSTANTS</h1>"
   ],
   "metadata": {}
  },
  {
   "cell_type": "code",
   "execution_count": 3,
   "source": [
    "# Dataset Constants\r\n",
    "DATASET_PATH = \"./recordbase\"\r\n",
    "TRAIN_DIR = \"train\"\r\n",
    "VAL_DIR = \"val\"\r\n",
    "TEST_DIR = \"test\"\r\n",
    "\r\n",
    "RECORD_ENCODING_TYPE = \"ZLIB\" # none if no encoding is used\r\n",
    "\r\n",
    "# Pipeline parameters\r\n",
    "BUFFER_SIZE = None # set buffer size to default value, change if you have bottleneck\r\n",
    "SHUFFLE_SIZE = 256 # because dataset is too large huge shuffle sizes may cause problems with ram\r\n",
    "BATCH_SIZE = 2 # Highly dependent on d-gpu and system ram\r\n",
    "STEPS_PER_EPOCH = 5636//BATCH_SIZE # IMPORTANT this value should be equal to file_amount/batch_size because we can't find file_amount from tf.Dataset you should note it yourself\r\n",
    "VAL_STEPS_PER_EPOCH = 400//BATCH_SIZE # same as steps per epoch\r\n",
    "USE_TENSORBOARD = True\r\n",
    "# every shard is 200 files with 36 files on last shard\r\n",
    "# Model Constants\r\n",
    "BACKBONE = 'efficientnetb3'\r\n",
    "# unlabelled 0, iskemik 1, hemorajik 2\r\n",
    "CLASSES = ['iskemik', 'kanama']\r\n",
    "LR = 0.0001\r\n",
    "EPOCHS = 40\r\n",
    "MODEL_SAVE_PATH = \"./models\""
   ],
   "outputs": [],
   "metadata": {}
  },
  {
   "cell_type": "code",
   "execution_count": 4,
   "source": [
    "# Variables\r\n",
    "train_dir = os.path.join(DATASET_PATH, TRAIN_DIR)\r\n",
    "val_dir = os.path.join(DATASET_PATH, VAL_DIR)\r\n",
    "\r\n",
    "train_filenames = tf.io.gfile.glob(f\"{train_dir}/*.tfrecords\")\r\n",
    "val_filenames = tf.io.gfile.glob(f\"{val_dir}/*.tfrecords\")\r\n",
    "\r\n",
    "random.shuffle(train_filenames) # shuffle tfrecord files order\r\n",
    "random.shuffle(val_filenames)\r\n",
    "\r\n",
    "# define callbacks for learning rate scheduling and best checkpoints saving\r\n",
    "callbacks = [\r\n",
    "    keras.callbacks.ModelCheckpoint('./best_model.h5', save_weights_only=True, save_best_only=True, mode='min'),\r\n",
    "    keras.callbacks.ReduceLROnPlateau(),\r\n",
    "]\r\n",
    "\r\n",
    "if USE_TENSORBOARD:\r\n",
    "    callbacks.append(\r\n",
    "        TensorBoard(\r\n",
    "            log_dir=\"logs\",\r\n",
    "            histogram_freq=0,\r\n",
    "            write_graph=True,\r\n",
    "            write_images=False,\r\n",
    "            update_freq=\"epoch\",\r\n",
    "        ))"
   ],
   "outputs": [],
   "metadata": {}
  },
  {
   "cell_type": "markdown",
   "source": [
    "# Utility functions "
   ],
   "metadata": {}
  },
  {
   "cell_type": "code",
   "execution_count": 5,
   "source": [
    "# helper function for data visualization\r\n",
    "def visualize(**images):\r\n",
    "    \"\"\"Plot images in one row.\"\"\"\r\n",
    "    n = len(images)\r\n",
    "    plt.figure(figsize=(16, 5))\r\n",
    "    for i, (name, image) in enumerate(images.items()):\r\n",
    "        plt.subplot(1, n, i + 1)\r\n",
    "        plt.xticks([])\r\n",
    "        plt.yticks([])\r\n",
    "        plt.title(' '.join(name.split('_')).title())\r\n",
    "        # if whole binary image is true plt shows it as whole image is false so for bypassing this issue we assing one pixels value to 0\r\n",
    "        image[1,1] = 0 \r\n",
    "        plt.imshow(image)\r\n",
    "    plt.show()\r\n",
    "\r\n",
    "def visualize_dataset(img, mask, classes):\r\n",
    "    kwarg = {'image': img}\r\n",
    "    for i in range(len(classes)):\r\n",
    "        kwarg.update({classes[i] : mask[..., i].squeeze()})\r\n",
    "    visualize(**kwarg)\r\n",
    "\r\n",
    "    \r\n",
    "# helper function for data visualization    \r\n",
    "def denormalize(x):\r\n",
    "    \"\"\"Scale image to range 0..1 for correct plot\"\"\"\r\n",
    "    x_max = np.percentile(x, 98)\r\n",
    "    x_min = np.percentile(x, 2)    \r\n",
    "    x = (x - x_min) / (x_max - x_min)\r\n",
    "    x = x.clip(0, 1)\r\n",
    "    return x\r\n",
    "\r\n",
    "def plot_history(train_history):\r\n",
    "    # Plot training & validation iou_score values\r\n",
    "    plt.figure(figsize=(30, 5))\r\n",
    "    plt.subplot(121)\r\n",
    "    plt.plot(train_history.history['iou_score'])\r\n",
    "    plt.plot(train_history.history['val_iou_score'])\r\n",
    "    plt.title('Model iou_score')\r\n",
    "    plt.ylabel('iou_score')\r\n",
    "    plt.xlabel('Epoch')\r\n",
    "    plt.legend(['Train', 'Test'], loc='upper left')\r\n",
    "\r\n",
    "    # Plot training & validation loss values\r\n",
    "    plt.subplot(122)\r\n",
    "    plt.plot(train_history.history['loss'])\r\n",
    "    plt.plot(train_history.history['val_loss'])\r\n",
    "    plt.title('Model loss')\r\n",
    "    plt.ylabel('Loss')\r\n",
    "    plt.xlabel('Epoch')\r\n",
    "    plt.legend(['Train', 'Test'], loc='upper left')\r\n",
    "    plt.show()"
   ],
   "outputs": [],
   "metadata": {}
  },
  {
   "cell_type": "markdown",
   "source": [
    "# Data Input Pipeline (Highly Optimized TFRecord Reader)"
   ],
   "metadata": {}
  },
  {
   "cell_type": "code",
   "execution_count": 6,
   "source": [
    "def parse_examples_batch(examples):\r\n",
    "    feature_description = {\r\n",
    "        'image/height' : tf.io.FixedLenFeature([], tf.int64),\r\n",
    "        'image/width' : tf.io.FixedLenFeature([], tf.int64),\r\n",
    "        'image/depth' : tf.io.FixedLenFeature([], tf.int64),\r\n",
    "        'image/raw_image' : tf.io.FixedLenFeature([], tf.string),\r\n",
    "        'label/raw' : tf.io.FixedLenFeature([], tf.string)\r\n",
    "    }\r\n",
    "    samples = tf.io.parse_example(examples, feature_description)\r\n",
    "    return samples\r\n",
    "\r\n",
    "def prepare_sample(features):\r\n",
    "    image = tf.vectorized_map(lambda x: tf.io.parse_tensor(x, out_type = tf.float32), features[\"image/raw_image\"])\r\n",
    "    label = tf.vectorized_map(lambda x: tf.io.parse_tensor(x, out_type = tf.float64), features[\"label/raw\"])\r\n",
    "    return image, label\r\n",
    "\r\n",
    "def get_dataset_optimized(filenames, batch_size, shuffle_size):\r\n",
    "    record_dataset = tf.data.TFRecordDataset(filenames, compression_type=RECORD_ENCODING_TYPE, num_parallel_reads=AUTOTUNE)\r\n",
    "    if shuffle_size > 0:\r\n",
    "        record_dataset = record_dataset.shuffle(shuffle_size)\r\n",
    "    return (record_dataset\r\n",
    "    .repeat(EPOCHS)\r\n",
    "    .batch(batch_size=batch_size)\r\n",
    "    .map(map_func=parse_examples_batch, num_parallel_calls=tf.data.experimental.AUTOTUNE)\r\n",
    "    .map(map_func=prepare_sample, num_parallel_calls=tf.data.experimental.AUTOTUNE)\r\n",
    "    #.cache()\r\n",
    "    .prefetch(tf.data.experimental.AUTOTUNE))"
   ],
   "outputs": [],
   "metadata": {}
  },
  {
   "cell_type": "markdown",
   "source": [
    "# Sanity Check Dataset"
   ],
   "metadata": {}
  },
  {
   "cell_type": "code",
   "execution_count": null,
   "source": [
    "sanity_dataset = get_dataset_optimized(train_filenames, BATCH_SIZE, SHUFFLE_SIZE)\r\n",
    "\r\n",
    "i = sanity_dataset.take(1)\r\n",
    "for x in i:\r\n",
    "    for k in range(0, 2):\r\n",
    "        img, mask = x\r\n",
    "        visualize_dataset(img[k].numpy(), mask[k].numpy(), [\"kanama\", \"iskemik\", \"background\"])"
   ],
   "outputs": [
    {
     "output_type": "error",
     "ename": "Error",
     "evalue": "Session cannot generate requests",
     "traceback": [
      "Error: Session cannot generate requests",
      "at w.executeCodeCell (c:\\Users\\ardab\\.vscode\\extensions\\ms-toolsai.jupyter-2021.8.2031190714\\out\\client\\extension.js:52:301310)",
      "at w.execute (c:\\Users\\ardab\\.vscode\\extensions\\ms-toolsai.jupyter-2021.8.2031190714\\out\\client\\extension.js:52:300703)",
      "at w.start (c:\\Users\\ardab\\.vscode\\extensions\\ms-toolsai.jupyter-2021.8.2031190714\\out\\client\\extension.js:52:296367)",
      "at runMicrotasks (<anonymous>)",
      "at processTicksAndRejections (internal/process/task_queues.js:93:5)",
      "at async t.CellExecutionQueue.executeQueuedCells (c:\\Users\\ardab\\.vscode\\extensions\\ms-toolsai.jupyter-2021.8.2031190714\\out\\client\\extension.js:52:311160)",
      "at async t.CellExecutionQueue.start (c:\\Users\\ardab\\.vscode\\extensions\\ms-toolsai.jupyter-2021.8.2031190714\\out\\client\\extension.js:52:310700)"
     ]
    }
   ],
   "metadata": {}
  },
  {
   "cell_type": "markdown",
   "source": [
    "# Create Model"
   ],
   "metadata": {}
  },
  {
   "cell_type": "code",
   "execution_count": 6,
   "source": [
    "# define network parameters\r\n",
    "n_classes = 1 if len(CLASSES) == 1 else (len(CLASSES) + 1)  # case for binary and multiclass segmentation\r\n",
    "activation = 'sigmoid' if n_classes == 1 else 'softmax'\r\n",
    "\r\n",
    "#create model\r\n",
    "model = sm.Unet(BACKBONE, classes=n_classes, activation=activation)\r\n",
    "\r\n",
    "# define optomizer\r\n",
    "optim = keras.optimizers.Adam(LR)\r\n",
    "\r\n",
    "# Segmentation models losses can be combined together by '+' and scaled by integer or float factor\r\n",
    "# set class weights for dice_loss (car: 1.; pedestrian: 2.; background: 0.5;)\r\n",
    "# TODO redefine class weights\r\n",
    "dice_loss = sm.losses.DiceLoss(class_weights=np.array([1, 2, 0.5])) \r\n",
    "focal_loss = sm.losses.BinaryFocalLoss() if n_classes == 1 else sm.losses.CategoricalFocalLoss()\r\n",
    "total_loss = dice_loss + (1 * focal_loss)\r\n",
    "\r\n",
    "# actulally total_loss can be imported directly from library, above example just show you how to manipulate with losses\r\n",
    "# total_loss = sm.losses.binary_focal_dice_loss # or sm.losses.categorical_focal_dice_loss \r\n",
    "\r\n",
    "metrics = [sm.metrics.IOUScore(threshold=0.5), sm.metrics.FScore(threshold=0.5)]\r\n",
    "\r\n",
    "# compile keras model with defined optimozer, loss and metrics\r\n",
    "model.compile(optim, total_loss, metrics)"
   ],
   "outputs": [
    {
     "output_type": "stream",
     "name": "stderr",
     "text": [
      "2021-08-27 17:58:52.536930: I tensorflow/stream_executor/cuda/cuda_gpu_executor.cc:937] successful NUMA node read from SysFS had negative value (-1), but there must be at least one NUMA node, so returning NUMA node zero\n",
      "2021-08-27 17:58:52.547395: I tensorflow/stream_executor/cuda/cuda_gpu_executor.cc:937] successful NUMA node read from SysFS had negative value (-1), but there must be at least one NUMA node, so returning NUMA node zero\n",
      "2021-08-27 17:58:52.547766: I tensorflow/stream_executor/cuda/cuda_gpu_executor.cc:937] successful NUMA node read from SysFS had negative value (-1), but there must be at least one NUMA node, so returning NUMA node zero\n",
      "2021-08-27 17:58:52.548322: I tensorflow/core/platform/cpu_feature_guard.cc:142] This TensorFlow binary is optimized with oneAPI Deep Neural Network Library (oneDNN) to use the following CPU instructions in performance-critical operations:  FMA\n",
      "To enable them in other operations, rebuild TensorFlow with the appropriate compiler flags.\n",
      "2021-08-27 17:58:52.549303: I tensorflow/stream_executor/cuda/cuda_gpu_executor.cc:937] successful NUMA node read from SysFS had negative value (-1), but there must be at least one NUMA node, so returning NUMA node zero\n",
      "2021-08-27 17:58:52.549617: I tensorflow/stream_executor/cuda/cuda_gpu_executor.cc:937] successful NUMA node read from SysFS had negative value (-1), but there must be at least one NUMA node, so returning NUMA node zero\n",
      "2021-08-27 17:58:52.549897: I tensorflow/stream_executor/cuda/cuda_gpu_executor.cc:937] successful NUMA node read from SysFS had negative value (-1), but there must be at least one NUMA node, so returning NUMA node zero\n",
      "2021-08-27 17:58:53.009676: I tensorflow/stream_executor/cuda/cuda_gpu_executor.cc:937] successful NUMA node read from SysFS had negative value (-1), but there must be at least one NUMA node, so returning NUMA node zero\n",
      "2021-08-27 17:58:53.010019: I tensorflow/stream_executor/cuda/cuda_gpu_executor.cc:937] successful NUMA node read from SysFS had negative value (-1), but there must be at least one NUMA node, so returning NUMA node zero\n",
      "2021-08-27 17:58:53.010300: I tensorflow/stream_executor/cuda/cuda_gpu_executor.cc:937] successful NUMA node read from SysFS had negative value (-1), but there must be at least one NUMA node, so returning NUMA node zero\n",
      "2021-08-27 17:58:53.010575: I tensorflow/core/common_runtime/gpu/gpu_device.cc:1510] Created device /job:localhost/replica:0/task:0/device:GPU:0 with 4696 MB memory:  -> device: 0, name: NVIDIA GeForce GTX 1660 Ti with Max-Q Design, pci bus id: 0000:01:00.0, compute capability: 7.5\n",
      "2021-08-27 17:58:53.010886: I tensorflow/core/common_runtime/process_util.cc:146] Creating new thread pool with default inter op setting: 2. Tune using inter_op_parallelism_threads for best performance.\n"
     ]
    },
    {
     "output_type": "stream",
     "name": "stdout",
     "text": [
      "Sanity Check: Backbone Output = KerasTensor(type_spec=TensorSpec(shape=(None, None, None, 1536), dtype=tf.float32, name=None), name='top_activation/mul:0', description=\"created by layer 'top_activation'\")\n",
      "Sanity Check: VGG mod = KerasTensor(type_spec=TensorSpec(shape=(None, None, None, 1536), dtype=tf.float32, name=None), name='top_activation/mul:0', description=\"created by layer 'top_activation'\")\n",
      "Sanity Check: Decoder Output = KerasTensor(type_spec=TensorSpec(shape=(None, None, None, 16), dtype=tf.float32, name=None), name='decoder_stage4b_relu/Relu:0', description=\"created by layer 'decoder_stage4b_relu'\")\n",
      "Sanity Check: Model Output = KerasTensor(type_spec=TensorSpec(shape=(None, None, None, 3), dtype=tf.float32, name=None), name='softmax/Softmax:0', description=\"created by layer 'softmax'\")\n"
     ]
    }
   ],
   "metadata": {}
  },
  {
   "cell_type": "code",
   "execution_count": 7,
   "source": [
    "history = model.fit(\r\n",
    "        get_dataset_optimized(train_filenames, BATCH_SIZE, SHUFFLE_SIZE), \r\n",
    "        steps_per_epoch=STEPS_PER_EPOCH, \r\n",
    "        epochs=EPOCHS, \r\n",
    "        callbacks=callbacks, \r\n",
    "        validation_data=get_dataset_optimized(val_filenames, BATCH_SIZE, 0), \r\n",
    "        validation_steps=VAL_STEPS_PER_EPOCH,\r\n",
    "    )\r\n",
    "# TODO make this after eval for writing accuracy in the model name\r\n",
    "model_name = f'{history.history[\"val_iou_score\"]}iou_{datetime.now().strftime(\"%H_%M_%d_%m_%Y\")}'\r\n",
    "save_path = os.path.join(MODEL_SAVE_PATH, f\"{model_name}.h5\")\r\n",
    "model.save(save_path)"
   ],
   "outputs": [
    {
     "output_type": "stream",
     "name": "stdout",
     "text": [
      "WARNING:tensorflow:Using a while_loop for converting ParseTensor\n",
      "WARNING:tensorflow:Using a while_loop for converting ParseTensor\n",
      "WARNING:tensorflow:Using a while_loop for converting ParseTensor\n",
      "WARNING:tensorflow:Using a while_loop for converting ParseTensor\n",
      "Epoch 1/40\n"
     ]
    },
    {
     "output_type": "stream",
     "name": "stderr",
     "text": [
      "2021-08-27 17:59:20.667783: I tensorflow/compiler/mlir/mlir_graph_optimization_pass.cc:185] None of the MLIR Optimization Passes are enabled (registered 2)\n",
      "2021-08-27 17:59:33.175575: I tensorflow/stream_executor/cuda/cuda_dnn.cc:369] Loaded cuDNN version 8202\n",
      "2021-08-27 17:59:35.854993: W tensorflow/core/common_runtime/bfc_allocator.cc:272] Allocator (GPU_0_bfc) ran out of memory trying to allocate 2.50GiB with freed_by_count=0. The caller indicates that this is not a failure, but may mean that there could be performance gains if more memory were available.\n",
      "2021-08-27 17:59:36.378916: W tensorflow/core/common_runtime/bfc_allocator.cc:272] Allocator (GPU_0_bfc) ran out of memory trying to allocate 2.09GiB with freed_by_count=0. The caller indicates that this is not a failure, but may mean that there could be performance gains if more memory were available.\n",
      "2021-08-27 17:59:36.585069: W tensorflow/core/common_runtime/bfc_allocator.cc:272] Allocator (GPU_0_bfc) ran out of memory trying to allocate 2.12GiB with freed_by_count=0. The caller indicates that this is not a failure, but may mean that there could be performance gains if more memory were available.\n"
     ]
    },
    {
     "output_type": "stream",
     "name": "stdout",
     "text": [
      " 201/2818 [=>............................] - ETA: 15:20 - loss: 0.8650 - iou_score: 0.2839 - f1-score: 0.3189"
     ]
    },
    {
     "output_type": "error",
     "ename": "KeyboardInterrupt",
     "evalue": "",
     "traceback": [
      "\u001b[0;31m---------------------------------------------------------------------------\u001b[0m",
      "\u001b[0;31mKeyboardInterrupt\u001b[0m                         Traceback (most recent call last)",
      "\u001b[0;32m/tmp/ipykernel_11102/3388778602.py\u001b[0m in \u001b[0;36m<module>\u001b[0;34m\u001b[0m\n\u001b[0;32m----> 1\u001b[0;31m history = model.fit(\n\u001b[0m\u001b[1;32m      2\u001b[0m         \u001b[0mget_dataset_optimized\u001b[0m\u001b[0;34m(\u001b[0m\u001b[0mtrain_filenames\u001b[0m\u001b[0;34m,\u001b[0m \u001b[0mBATCH_SIZE\u001b[0m\u001b[0;34m,\u001b[0m \u001b[0mSHUFFLE_SIZE\u001b[0m\u001b[0;34m)\u001b[0m\u001b[0;34m,\u001b[0m\u001b[0;34m\u001b[0m\u001b[0;34m\u001b[0m\u001b[0m\n\u001b[1;32m      3\u001b[0m         \u001b[0msteps_per_epoch\u001b[0m\u001b[0;34m=\u001b[0m\u001b[0mSTEPS_PER_EPOCH\u001b[0m\u001b[0;34m,\u001b[0m\u001b[0;34m\u001b[0m\u001b[0;34m\u001b[0m\u001b[0m\n\u001b[1;32m      4\u001b[0m         \u001b[0mepochs\u001b[0m\u001b[0;34m=\u001b[0m\u001b[0mEPOCHS\u001b[0m\u001b[0;34m,\u001b[0m\u001b[0;34m\u001b[0m\u001b[0;34m\u001b[0m\u001b[0m\n\u001b[1;32m      5\u001b[0m         \u001b[0mcallbacks\u001b[0m\u001b[0;34m=\u001b[0m\u001b[0mcallbacks\u001b[0m\u001b[0;34m,\u001b[0m\u001b[0;34m\u001b[0m\u001b[0;34m\u001b[0m\u001b[0m\n",
      "\u001b[0;32m~/Desktop/Coding/teknofest-venv/lib/python3.9/site-packages/keras/engine/training.py\u001b[0m in \u001b[0;36mfit\u001b[0;34m(self, x, y, batch_size, epochs, verbose, callbacks, validation_split, validation_data, shuffle, class_weight, sample_weight, initial_epoch, steps_per_epoch, validation_steps, validation_batch_size, validation_freq, max_queue_size, workers, use_multiprocessing)\u001b[0m\n\u001b[1;32m   1182\u001b[0m                 _r=1):\n\u001b[1;32m   1183\u001b[0m               \u001b[0mcallbacks\u001b[0m\u001b[0;34m.\u001b[0m\u001b[0mon_train_batch_begin\u001b[0m\u001b[0;34m(\u001b[0m\u001b[0mstep\u001b[0m\u001b[0;34m)\u001b[0m\u001b[0;34m\u001b[0m\u001b[0;34m\u001b[0m\u001b[0m\n\u001b[0;32m-> 1184\u001b[0;31m               \u001b[0mtmp_logs\u001b[0m \u001b[0;34m=\u001b[0m \u001b[0mself\u001b[0m\u001b[0;34m.\u001b[0m\u001b[0mtrain_function\u001b[0m\u001b[0;34m(\u001b[0m\u001b[0miterator\u001b[0m\u001b[0;34m)\u001b[0m\u001b[0;34m\u001b[0m\u001b[0;34m\u001b[0m\u001b[0m\n\u001b[0m\u001b[1;32m   1185\u001b[0m               \u001b[0;32mif\u001b[0m \u001b[0mdata_handler\u001b[0m\u001b[0;34m.\u001b[0m\u001b[0mshould_sync\u001b[0m\u001b[0;34m:\u001b[0m\u001b[0;34m\u001b[0m\u001b[0;34m\u001b[0m\u001b[0m\n\u001b[1;32m   1186\u001b[0m                 \u001b[0mcontext\u001b[0m\u001b[0;34m.\u001b[0m\u001b[0masync_wait\u001b[0m\u001b[0;34m(\u001b[0m\u001b[0;34m)\u001b[0m\u001b[0;34m\u001b[0m\u001b[0;34m\u001b[0m\u001b[0m\n",
      "\u001b[0;32m/usr/lib/python3.9/site-packages/tensorflow/python/eager/def_function.py\u001b[0m in \u001b[0;36m__call__\u001b[0;34m(self, *args, **kwds)\u001b[0m\n\u001b[1;32m    883\u001b[0m \u001b[0;34m\u001b[0m\u001b[0m\n\u001b[1;32m    884\u001b[0m       \u001b[0;32mwith\u001b[0m \u001b[0mOptionalXlaContext\u001b[0m\u001b[0;34m(\u001b[0m\u001b[0mself\u001b[0m\u001b[0;34m.\u001b[0m\u001b[0m_jit_compile\u001b[0m\u001b[0;34m)\u001b[0m\u001b[0;34m:\u001b[0m\u001b[0;34m\u001b[0m\u001b[0;34m\u001b[0m\u001b[0m\n\u001b[0;32m--> 885\u001b[0;31m         \u001b[0mresult\u001b[0m \u001b[0;34m=\u001b[0m \u001b[0mself\u001b[0m\u001b[0;34m.\u001b[0m\u001b[0m_call\u001b[0m\u001b[0;34m(\u001b[0m\u001b[0;34m*\u001b[0m\u001b[0margs\u001b[0m\u001b[0;34m,\u001b[0m \u001b[0;34m**\u001b[0m\u001b[0mkwds\u001b[0m\u001b[0;34m)\u001b[0m\u001b[0;34m\u001b[0m\u001b[0;34m\u001b[0m\u001b[0m\n\u001b[0m\u001b[1;32m    886\u001b[0m \u001b[0;34m\u001b[0m\u001b[0m\n\u001b[1;32m    887\u001b[0m       \u001b[0mnew_tracing_count\u001b[0m \u001b[0;34m=\u001b[0m \u001b[0mself\u001b[0m\u001b[0;34m.\u001b[0m\u001b[0mexperimental_get_tracing_count\u001b[0m\u001b[0;34m(\u001b[0m\u001b[0;34m)\u001b[0m\u001b[0;34m\u001b[0m\u001b[0;34m\u001b[0m\u001b[0m\n",
      "\u001b[0;32m/usr/lib/python3.9/site-packages/tensorflow/python/eager/def_function.py\u001b[0m in \u001b[0;36m_call\u001b[0;34m(self, *args, **kwds)\u001b[0m\n\u001b[1;32m    915\u001b[0m       \u001b[0;31m# In this case we have created variables on the first call, so we run the\u001b[0m\u001b[0;34m\u001b[0m\u001b[0;34m\u001b[0m\u001b[0;34m\u001b[0m\u001b[0m\n\u001b[1;32m    916\u001b[0m       \u001b[0;31m# defunned version which is guaranteed to never create variables.\u001b[0m\u001b[0;34m\u001b[0m\u001b[0;34m\u001b[0m\u001b[0;34m\u001b[0m\u001b[0m\n\u001b[0;32m--> 917\u001b[0;31m       \u001b[0;32mreturn\u001b[0m \u001b[0mself\u001b[0m\u001b[0;34m.\u001b[0m\u001b[0m_stateless_fn\u001b[0m\u001b[0;34m(\u001b[0m\u001b[0;34m*\u001b[0m\u001b[0margs\u001b[0m\u001b[0;34m,\u001b[0m \u001b[0;34m**\u001b[0m\u001b[0mkwds\u001b[0m\u001b[0;34m)\u001b[0m  \u001b[0;31m# pylint: disable=not-callable\u001b[0m\u001b[0;34m\u001b[0m\u001b[0;34m\u001b[0m\u001b[0m\n\u001b[0m\u001b[1;32m    918\u001b[0m     \u001b[0;32melif\u001b[0m \u001b[0mself\u001b[0m\u001b[0;34m.\u001b[0m\u001b[0m_stateful_fn\u001b[0m \u001b[0;32mis\u001b[0m \u001b[0;32mnot\u001b[0m \u001b[0;32mNone\u001b[0m\u001b[0;34m:\u001b[0m\u001b[0;34m\u001b[0m\u001b[0;34m\u001b[0m\u001b[0m\n\u001b[1;32m    919\u001b[0m       \u001b[0;31m# Release the lock early so that multiple threads can perform the call\u001b[0m\u001b[0;34m\u001b[0m\u001b[0;34m\u001b[0m\u001b[0;34m\u001b[0m\u001b[0m\n",
      "\u001b[0;32m/usr/lib/python3.9/site-packages/tensorflow/python/eager/function.py\u001b[0m in \u001b[0;36m__call__\u001b[0;34m(self, *args, **kwargs)\u001b[0m\n\u001b[1;32m   3037\u001b[0m       (graph_function,\n\u001b[1;32m   3038\u001b[0m        filtered_flat_args) = self._maybe_define_function(args, kwargs)\n\u001b[0;32m-> 3039\u001b[0;31m     return graph_function._call_flat(\n\u001b[0m\u001b[1;32m   3040\u001b[0m         filtered_flat_args, captured_inputs=graph_function.captured_inputs)  # pylint: disable=protected-access\n\u001b[1;32m   3041\u001b[0m \u001b[0;34m\u001b[0m\u001b[0m\n",
      "\u001b[0;32m/usr/lib/python3.9/site-packages/tensorflow/python/eager/function.py\u001b[0m in \u001b[0;36m_call_flat\u001b[0;34m(self, args, captured_inputs, cancellation_manager)\u001b[0m\n\u001b[1;32m   1961\u001b[0m         and executing_eagerly):\n\u001b[1;32m   1962\u001b[0m       \u001b[0;31m# No tape is watching; skip to running the function.\u001b[0m\u001b[0;34m\u001b[0m\u001b[0;34m\u001b[0m\u001b[0;34m\u001b[0m\u001b[0m\n\u001b[0;32m-> 1963\u001b[0;31m       return self._build_call_outputs(self._inference_function.call(\n\u001b[0m\u001b[1;32m   1964\u001b[0m           ctx, args, cancellation_manager=cancellation_manager))\n\u001b[1;32m   1965\u001b[0m     forward_backward = self._select_forward_and_backward_functions(\n",
      "\u001b[0;32m/usr/lib/python3.9/site-packages/tensorflow/python/eager/function.py\u001b[0m in \u001b[0;36mcall\u001b[0;34m(self, ctx, args, cancellation_manager)\u001b[0m\n\u001b[1;32m    589\u001b[0m       \u001b[0;32mwith\u001b[0m \u001b[0m_InterpolateFunctionError\u001b[0m\u001b[0;34m(\u001b[0m\u001b[0mself\u001b[0m\u001b[0;34m)\u001b[0m\u001b[0;34m:\u001b[0m\u001b[0;34m\u001b[0m\u001b[0;34m\u001b[0m\u001b[0m\n\u001b[1;32m    590\u001b[0m         \u001b[0;32mif\u001b[0m \u001b[0mcancellation_manager\u001b[0m \u001b[0;32mis\u001b[0m \u001b[0;32mNone\u001b[0m\u001b[0;34m:\u001b[0m\u001b[0;34m\u001b[0m\u001b[0;34m\u001b[0m\u001b[0m\n\u001b[0;32m--> 591\u001b[0;31m           outputs = execute.execute(\n\u001b[0m\u001b[1;32m    592\u001b[0m               \u001b[0mstr\u001b[0m\u001b[0;34m(\u001b[0m\u001b[0mself\u001b[0m\u001b[0;34m.\u001b[0m\u001b[0msignature\u001b[0m\u001b[0;34m.\u001b[0m\u001b[0mname\u001b[0m\u001b[0;34m)\u001b[0m\u001b[0;34m,\u001b[0m\u001b[0;34m\u001b[0m\u001b[0;34m\u001b[0m\u001b[0m\n\u001b[1;32m    593\u001b[0m               \u001b[0mnum_outputs\u001b[0m\u001b[0;34m=\u001b[0m\u001b[0mself\u001b[0m\u001b[0;34m.\u001b[0m\u001b[0m_num_outputs\u001b[0m\u001b[0;34m,\u001b[0m\u001b[0;34m\u001b[0m\u001b[0;34m\u001b[0m\u001b[0m\n",
      "\u001b[0;32m/usr/lib/python3.9/site-packages/tensorflow/python/eager/execute.py\u001b[0m in \u001b[0;36mquick_execute\u001b[0;34m(op_name, num_outputs, inputs, attrs, ctx, name)\u001b[0m\n\u001b[1;32m     57\u001b[0m   \u001b[0;32mtry\u001b[0m\u001b[0;34m:\u001b[0m\u001b[0;34m\u001b[0m\u001b[0;34m\u001b[0m\u001b[0m\n\u001b[1;32m     58\u001b[0m     \u001b[0mctx\u001b[0m\u001b[0;34m.\u001b[0m\u001b[0mensure_initialized\u001b[0m\u001b[0;34m(\u001b[0m\u001b[0;34m)\u001b[0m\u001b[0;34m\u001b[0m\u001b[0;34m\u001b[0m\u001b[0m\n\u001b[0;32m---> 59\u001b[0;31m     tensors = pywrap_tfe.TFE_Py_Execute(ctx._handle, device_name, op_name,\n\u001b[0m\u001b[1;32m     60\u001b[0m                                         inputs, attrs, num_outputs)\n\u001b[1;32m     61\u001b[0m   \u001b[0;32mexcept\u001b[0m \u001b[0mcore\u001b[0m\u001b[0;34m.\u001b[0m\u001b[0m_NotOkStatusException\u001b[0m \u001b[0;32mas\u001b[0m \u001b[0me\u001b[0m\u001b[0;34m:\u001b[0m\u001b[0;34m\u001b[0m\u001b[0;34m\u001b[0m\u001b[0m\n",
      "\u001b[0;31mKeyboardInterrupt\u001b[0m: "
     ]
    }
   ],
   "metadata": {}
  },
  {
   "cell_type": "markdown",
   "source": [
    "# Train the Model"
   ],
   "metadata": {}
  },
  {
   "cell_type": "code",
   "execution_count": null,
   "source": [
    "def train_model(data_generators, model, callbacks):\n",
    "    train_dataloader = data_generators[0]\n",
    "    valid_dataloader = data_generators[1]\n",
    "    # train model\n",
    "    history = model.fit(\n",
    "        train_dataloader, \n",
    "        steps_per_epoch=len(train_dataloader), \n",
    "        epochs=EPOCHS, \n",
    "        callbacks=callbacks, \n",
    "        validation_data=valid_dataloader, \n",
    "        validation_steps=len(valid_dataloader),\n",
    "    )\n",
    "    # TODO make this after eval for writing accuracy in the model name\n",
    "    save_path = os.path.join(MODEL_SAVE_PATH, f\"{}acc_{}.{}\")\n",
    "    model.save(save_path)"
   ],
   "outputs": [],
   "metadata": {}
  },
  {
   "cell_type": "markdown",
   "source": [
    "# Evaluate Model"
   ],
   "metadata": {}
  },
  {
   "cell_type": "code",
   "execution_count": null,
   "source": [
    "def evaluate_model(eval_generator, model):\n",
    "    pass"
   ],
   "outputs": [],
   "metadata": {}
  },
  {
   "cell_type": "code",
   "execution_count": null,
   "source": [
    "model_double_unet = sm.custom.Double_Unet(backbone_name=\"vgg19\", encoder_weights=None, input_shape=(512,512,3), classes=6)\n",
    "# for the class problem solution is simple make softmax like sigmoid, if background class has the heighest probility count that pixel as 0\n",
    "# if another class is higher count that as 1. think about another way to make 2nd model consider whole image. Also in the last layer\n",
    "# you can add class probility\n"
   ],
   "outputs": [],
   "metadata": {}
  },
  {
   "cell_type": "code",
   "execution_count": null,
   "source": [
    "from tensorflow.keras.callbacks import TensorBoard\n",
    "tensorboard_callback = TensorBoard(\n",
    "    log_dir=\"logs\",\n",
    "    histogram_freq=0,\n",
    "    write_graph=True,\n",
    "    write_images=False,\n",
    "    update_freq=\"epoch\",\n",
    ")"
   ],
   "outputs": [],
   "metadata": {}
  },
  {
   "cell_type": "code",
   "execution_count": null,
   "source": [
    "model_double_unet.compile(optimizer = 'adam', loss = 'binary_crossentropy', metrics = ['accuracy'])\r\n",
    "model_double_unet.fit(X_train, y_train, batch_size = 32, epochs = 50, callbacks=[tensorboard_callback])"
   ],
   "outputs": [],
   "metadata": {}
  }
 ],
 "metadata": {
  "orig_nbformat": 4,
  "language_info": {
   "name": "python",
   "version": "3.8.0",
   "mimetype": "text/x-python",
   "codemirror_mode": {
    "name": "ipython",
    "version": 3
   },
   "pygments_lexer": "ipython3",
   "nbconvert_exporter": "python",
   "file_extension": ".py"
  },
  "kernelspec": {
   "name": "python3",
   "display_name": "Python 3.8.0 64-bit ('venv': venv)"
  },
  "interpreter": {
   "hash": "92e73c2a3a66178c34ef4af89de09cfd119ed7d275422bdf7065254acf9e400f"
  }
 },
 "nbformat": 4,
 "nbformat_minor": 2
}