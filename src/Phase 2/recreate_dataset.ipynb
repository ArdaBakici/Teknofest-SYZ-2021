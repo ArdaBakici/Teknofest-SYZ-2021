{
 "cells": [
  {
   "cell_type": "code",
   "execution_count": 3,
   "source": [
    "import glob\n",
    "import os\n",
    "import random\n",
    "import shutil\n",
    "\n",
    "train_num = 4977\n",
    "val_num = 1659\n",
    "\n",
    "WILL_COPY = True\n",
    "\n",
    "DATASET_DATA_DIR = './data/dataset1/data/'\n",
    "DATASET_LABEL_DIR = './data/dataset1/label/'\n",
    "\n",
    "train_data_path = './data/dataset1/train/'\n",
    "train_label_path = './data/dataset1/train_label/'\n",
    "\n",
    "val_data_path = './data/dataset1/val/'\n",
    "val_label_path = './data/dataset1/val_label/'\n",
    "\n",
    "img_filenames = glob.glob(f\"{DATASET_DATA_DIR}*.png\")\n",
    "random.shuffle(img_filenames)\n",
    "last_index = 0\n",
    "train_filenames = img_filenames[0:train_num]\n",
    "val_filenames = img_filenames[train_num:]\n",
    "assert len(val_filenames) == val_num\n",
    "\n",
    "for filename in train_filenames:\n",
    "    label_filename = filename.replace(DATASET_DATA_DIR, DATASET_LABEL_DIR)\n",
    "    if WILL_COPY:\n",
    "        shutil.copy(filename, filename.replace(DATASET_DATA_DIR, train_data_path))\n",
    "        shutil.copy(label_filename, label_filename.replace(DATASET_LABEL_DIR, train_label_path))\n",
    "    else:\n",
    "        os.rename(filename, filename.replace(DATASET_DATA_DIR, train_data_path))\n",
    "        os.rename(label_filename, label_filename.replace(DATASET_LABEL_DIR, train_label_path))\n",
    "\n",
    "for filename in val_filenames:\n",
    "    label_filename = filename.replace(DATASET_DATA_DIR, DATASET_LABEL_DIR)\n",
    "    if WILL_COPY:\n",
    "        shutil.copy(filename, filename.replace(DATASET_DATA_DIR, val_data_path))\n",
    "        shutil.copy(label_filename, label_filename.replace(DATASET_LABEL_DIR, val_label_path))\n",
    "    else:\n",
    "        os.rename(filename, filename.replace(DATASET_DATA_DIR, val_data_path))\n",
    "        os.rename(label_filename, label_filename.replace(DATASET_LABEL_DIR, val_label_path))"
   ],
   "outputs": [],
   "metadata": {}
  }
 ],
 "metadata": {
  "orig_nbformat": 4,
  "language_info": {
   "name": "python",
   "version": "3.9.6",
   "mimetype": "text/x-python",
   "codemirror_mode": {
    "name": "ipython",
    "version": 3
   },
   "pygments_lexer": "ipython3",
   "nbconvert_exporter": "python",
   "file_extension": ".py"
  },
  "kernelspec": {
   "name": "python3",
   "display_name": "Python 3.9.6 64-bit ('teknofest-venv': venv)"
  },
  "interpreter": {
   "hash": "c3b109d40fe907ead7ade9c1b48b16b3bef4465b369e345f2adfa6bf3aa7e6e2"
  }
 },
 "nbformat": 4,
 "nbformat_minor": 2
}